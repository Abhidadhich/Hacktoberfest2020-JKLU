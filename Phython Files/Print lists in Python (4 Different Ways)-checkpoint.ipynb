{
 "cells": [
  {
   "cell_type": "code",
   "execution_count": 13,
   "metadata": {},
   "outputs": [
    {
     "data": {
      "text/plain": [
       "list"
      ]
     },
     "execution_count": 13,
     "metadata": {},
     "output_type": "execute_result"
    }
   ],
   "source": [
    "list1=[]\n",
    "type(list1)"
   ]
  },
  {
   "cell_type": "code",
   "execution_count": 14,
   "metadata": {},
   "outputs": [],
   "source": [
    "list1=[1,2,3,4,5,6]"
   ]
  },
  {
   "cell_type": "code",
   "execution_count": 15,
   "metadata": {},
   "outputs": [
    {
     "data": {
      "text/plain": [
       "[1, 2, 3, 4, 5, 6]"
      ]
     },
     "execution_count": 15,
     "metadata": {},
     "output_type": "execute_result"
    }
   ],
   "source": [
    "list1"
   ]
  },
  {
   "cell_type": "code",
   "execution_count": 18,
   "metadata": {},
   "outputs": [
    {
     "name": "stdout",
     "output_type": "stream",
     "text": [
      "1\n",
      "2\n",
      "3\n",
      "4\n",
      "5\n",
      "6\n"
     ]
    }
   ],
   "source": [
    "for i in list1:\n",
    "    print(i)"
   ]
  },
  {
   "cell_type": "code",
   "execution_count": 10,
   "metadata": {},
   "outputs": [
    {
     "name": "stdout",
     "output_type": "stream",
     "text": [
      "1\n",
      "2\n",
      "3\n",
      "4\n",
      "5\n"
     ]
    }
   ],
   "source": [
    "#method1\n",
    "# Python program to print list \n",
    "# using for loop \n",
    "a = [1, 2, 3, 4, 5] \n",
    "  \n",
    "# printing the list using loop \n",
    "for x in range(len(a)): \n",
    "    print(a[x],)"
   ]
  },
  {
   "cell_type": "code",
   "execution_count": 12,
   "metadata": {},
   "outputs": [
    {
     "name": "stdout",
     "output_type": "stream",
     "text": [
      "printing lists separated by commas\n",
      "1, 2, 3, 4, 5\n",
      "printing lists in new line\n",
      "1\n",
      "2\n",
      "3\n",
      "4\n",
      "5\n"
     ]
    }
   ],
   "source": [
    "#method2\n",
    "# Python program to print list \n",
    "# without using loop \n",
    "  \n",
    "a = [1, 2, 3, 4, 5] \n",
    "# printing the list using * and sep operator \n",
    "print(\"printing lists separated by commas\") \n",
    "  \n",
    "print(*a, sep = \", \")\n",
    "# print in new line \n",
    "print(\"printing lists in new line\") \n",
    "  \n",
    "print(*a, sep = \"\\n\") \n"
   ]
  },
  {
   "cell_type": "code",
   "execution_count": 16,
   "metadata": {},
   "outputs": [
    {
     "name": "stdout",
     "output_type": "stream",
     "text": [
      "Geeks for Geeks\n",
      "Geeks for Geeks\n",
      "1, 2, 3, 4, 5\n"
     ]
    }
   ],
   "source": [
    "#method3\n",
    "# Python program to print list \n",
    "# by Converting a list to a \n",
    "# string for display \n",
    "a =[\"Geeks\", \"for\", \"Geeks\"] \n",
    "# printing the list using * operator separated  \n",
    "# by space  \n",
    "print(*a)\n",
    "# print the list using join function() \n",
    "print(' '.join(a)) \n",
    "# print the list by converting a list of \n",
    "# integers to string \n",
    "a = [1, 2, 3, 4, 5] \n",
    "\n",
    "print (str(a)[1:-1])"
   ]
  },
  {
   "cell_type": "code",
   "execution_count": 17,
   "metadata": {},
   "outputs": [
    {
     "name": "stdout",
     "output_type": "stream",
     "text": [
      "1 2 3 4 5\n",
      "in new line\n",
      "1\n",
      "2\n",
      "3\n",
      "4\n",
      "5\n"
     ]
    }
   ],
   "source": [
    "#method4\n",
    "# Python program to print list \n",
    "# print the list by converting a list of \n",
    "# integers to string using map \n",
    "\n",
    "a = [1, 2, 3, 4, 5] \n",
    "print(' '.join(map(str, a))) \n",
    "\n",
    "print(\"in new line\")\n",
    "print('\\n'.join(map(str, a))) \n"
   ]
  },
  {
   "cell_type": "code",
   "execution_count": null,
   "metadata": {},
   "outputs": [],
   "source": []
  }
 ],
 "metadata": {
  "kernelspec": {
   "display_name": "Python 3",
   "language": "python",
   "name": "python3"
  }
 },
 "nbformat": 4,
 "nbformat_minor": 2
}
