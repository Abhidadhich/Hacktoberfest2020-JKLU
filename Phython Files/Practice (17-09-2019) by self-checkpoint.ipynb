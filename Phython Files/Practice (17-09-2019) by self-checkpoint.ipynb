{
 "cells": [
  {
   "cell_type": "code",
   "execution_count": 1,
   "metadata": {},
   "outputs": [
    {
     "name": "stdout",
     "output_type": "stream",
     "text": [
      "Rank of the Matrix is: 2\n"
     ]
    }
   ],
   "source": [
    "# Python 3 program to find rank of a matrix \n",
    "class rankMatrix(object): \n",
    "\tdef __init__(self, Matrix): \n",
    "\t\tself.R = len(Matrix) \n",
    "\t\tself.C = len(Matrix[0]) \n",
    "\t\t\n",
    "\t# Function for exchanging two rows of a matrix \n",
    "\tdef swap(self, Matrix, row1, row2, col): \n",
    "\t\tfor i in range(col): \n",
    "\t\t\ttemp = Matrix[row1][i] \n",
    "\t\t\tMatrix[row1][i] = Matrix[row2][i] \n",
    "\t\t\tMatrix[row2][i] = temp \n",
    "\t\t\t\n",
    "\t# Function to Display a matrix \n",
    "\tdef Display(self, Matrix, row, col): \n",
    "\t\tfor i in range(row): \n",
    "\t\t\tfor j in range(col): \n",
    "\t\t\t\tprint (\" \" + str(Matrix[i][j])) \n",
    "\t\t\tprint ('\\n') \n",
    "\t\t\t\n",
    "\t# Find rank of a matrix \n",
    "\tdef rankOfMatrix(self, Matrix): \n",
    "\t\trank = self.C \n",
    "\t\tfor row in range(0, rank, 1): \n",
    "\t\t\t\n",
    "\t\t\t# Before we visit current row \n",
    "\t\t\t# 'row', we make sure that \n",
    "\t\t\t# mat[row][0],....mat[row][row-1] \n",
    "\t\t\t# are 0. \n",
    "\t\n",
    "\t\t\t# Diagonal element is not zero \n",
    "\t\t\tif Matrix[row][row] != 0: \n",
    "\t\t\t\tfor col in range(0, self.R, 1): \n",
    "\t\t\t\t\tif col != row: \n",
    "\t\t\t\t\t\t\n",
    "\t\t\t\t\t\t# This makes all entries of current \n",
    "\t\t\t\t\t\t# column as 0 except entry 'mat[row][row]' \n",
    "\t\t\t\t\t\tmultiplier = (Matrix[col][row] /\n",
    "\t\t\t\t\t\t\t\t\tMatrix[row][row]) \n",
    "\t\t\t\t\t\tfor i in range(rank): \n",
    "\t\t\t\t\t\t\tMatrix[col][i] -= (multiplier *\n",
    "\t\t\t\t\t\t\t\t\t\t\tMatrix[row][i]) \n",
    "\t\t\t\t\t\t\t\t\t\t\t\t\n",
    "\t\t\t# Diagonal element is already zero. \n",
    "\t\t\t# Two cases arise: \n",
    "\t\t\t# 1) If there is a row below it \n",
    "\t\t\t# with non-zero entry, then swap \n",
    "\t\t\t# this row with that row and process \n",
    "\t\t\t# that row \n",
    "\t\t\t# 2) If all elements in current \n",
    "\t\t\t# column below mat[r][row] are 0, \n",
    "\t\t\t# then remvoe this column by \n",
    "\t\t\t# swapping it with last column and \n",
    "\t\t\t# reducing number of columns by 1. \n",
    "\t\t\telse: \n",
    "\t\t\t\treduce = True\n",
    "\t\t\t\t\n",
    "\t\t\t\t# Find the non-zero element \n",
    "\t\t\t\t# in current column \n",
    "\t\t\t\tfor i in range(row + 1, self.R, 1): \n",
    "\t\t\t\t\t\n",
    "\t\t\t\t\t# Swap the row with non-zero \n",
    "\t\t\t\t\t# element with this row. \n",
    "\t\t\t\t\tif Matrix[i][row] != 0: \n",
    "\t\t\t\t\t\tself.swap(Matrix, row, i, rank) \n",
    "\t\t\t\t\t\treduce = False\n",
    "\t\t\t\t\t\tbreak\n",
    "\t\t\t\t\t\t\n",
    "\t\t\t\t# If we did not find any row with \n",
    "\t\t\t\t# non-zero element in current \n",
    "\t\t\t\t# columnm, then all values in \n",
    "\t\t\t\t# this column are 0. \n",
    "\t\t\t\tif reduce: \n",
    "                    \n",
    "                    # Reduce number of columns \n",
    "                    rank -= 1\n",
    "                    \n",
    "                    # copy the last column here \n",
    "                    for i in range(0, self.R, 1): \n",
    "                        Matrix[i][row] = Matrix[i][rank] \n",
    "                        \n",
    "                # process this row again \n",
    "                row -= 1\n",
    "                \n",
    "\t\t# self.Display(Matrix, self.R,self.C) \n",
    "\t\treturn (rank) \n",
    "\n",
    "# Driver Code \n",
    "if __name__ == '__main__': \n",
    "\tMatrix = [[10, 20, 10], \n",
    "\t\t\t[-20, -30, 10], \n",
    "\t\t\t[30, 50, 0]] \n",
    "\tRankMatrix = rankMatrix(Matrix) \n",
    "\tprint (\"Rank of the Matrix is:\", \n",
    "\t\t(RankMatrix.rankOfMatrix(Matrix))) \n",
    "\n",
    "# This code is contributed by Vikas Chitturi \n"
   ]
  },
  {
   "cell_type": "code",
   "execution_count": 8,
   "metadata": {},
   "outputs": [
    {
     "name": "stdout",
     "output_type": "stream",
     "text": [
      "[ 1.61168440e+01 -1.11684397e+00 -9.75918483e-16]\n",
      "[[-0.23197069 -0.78583024  0.40824829]\n",
      " [-0.52532209 -0.08675134 -0.81649658]\n",
      " [-0.8186735   0.61232756  0.40824829]]\n"
     ]
    }
   ],
   "source": [
    "    import numpy as np\n",
    "    a=np.array([[1,2,3],[4,5,6],[7,8,9]])\n",
    "    from numpy.linalg import eig\n",
    "    values , vectors = eig(a)\n",
    "    print(values)\n",
    "    print(vectors)"
   ]
  },
  {
   "cell_type": "code",
   "execution_count": null,
   "metadata": {},
   "outputs": [],
   "source": []
  }
 ],
 "metadata": {
  "kernelspec": {
   "display_name": "Python 3",
   "language": "python",
   "name": "python3"
  },
  "language_info": {
   "codemirror_mode": {
    "name": "ipython",
    "version": 3
   },
   "file_extension": ".py",
   "mimetype": "text/x-python",
   "name": "python",
   "nbconvert_exporter": "python",
   "pygments_lexer": "ipython3",
   "version": "3.7.3"
  }
 },
 "nbformat": 4,
 "nbformat_minor": 2
}
