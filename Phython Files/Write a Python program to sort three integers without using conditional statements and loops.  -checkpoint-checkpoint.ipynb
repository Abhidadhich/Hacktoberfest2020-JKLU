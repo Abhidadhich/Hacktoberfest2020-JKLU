{
 "cells": [
  {
   "cell_type": "code",
   "execution_count": null,
   "metadata": {},
   "outputs": [],
   "source": [
    "Q 30.  Write a Python program to sort three integers without using conditional statements and loops"
   ]
  },
  {
   "cell_type": "code",
   "execution_count": 3,
   "metadata": {},
   "outputs": [
    {
     "name": "stdout",
     "output_type": "stream",
     "text": [
      "Input 1st Number : 1\n",
      "Input 2nd Number : 2\n",
      "Input 3rd Number : 3\n",
      "Number in sorted order:  1 2 3\n"
     ]
    }
   ],
   "source": [
    "x=int(input(\"Input 1st Number : \"))\n",
    "y=int(input(\"Input 2nd Number : \"))\n",
    "z=int(input(\"Input 3rd Number : \"))\n",
    " \n",
    "a1=min(x,y,z)\n",
    "a3=max(x,y,z)\n",
    "a2=(x+y+z)-a1-a3\n",
    "print(\"Number in sorted order: \", a1 , a2 , a3)"
   ]
  },
  {
   "cell_type": "code",
   "execution_count": null,
   "metadata": {},
   "outputs": [],
   "source": []
  },
  {
   "cell_type": "code",
   "execution_count": null,
   "metadata": {},
   "outputs": [],
   "source": []
  }
 ],
 "metadata": {
  "kernelspec": {
   "display_name": "Python 3",
   "language": "python",
   "name": "python3"
  },
  "language_info": {
   "codemirror_mode": {
    "name": "ipython",
    "version": 3
   },
   "file_extension": ".py",
   "mimetype": "text/x-python",
   "name": "python",
   "nbconvert_exporter": "python",
   "pygments_lexer": "ipython3",
   "version": "3.7.3"
  }
 },
 "nbformat": 4,
 "nbformat_minor": 2
}
